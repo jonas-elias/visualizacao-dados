{
 "cells": [
  {
   "cell_type": "code",
   "execution_count": 3,
   "metadata": {},
   "outputs": [],
   "source": [
    "import pandas as pd\n",
    "\n",
    "dados = {\n",
    "    'ano': [2014, 2011, 2012, 2011, 2012, 2013, 2010],\n",
    "    'estado': ['PR', 'SC', 'RS', 'RJ', 'MG', 'SP', 'MS'],\n",
    "    'desempenho': [1.5, 10.0, 3.6, 2.4, 2.9, 3.2, 4.0]\n",
    "}\n",
    "dataFrame = pd.DataFrame(dados, index=['um', 'dois', 'três', 'quatro', 'cinco', 'seis', 'sete'])"
   ]
  },
  {
   "cell_type": "code",
   "execution_count": null,
   "metadata": {},
   "outputs": [],
   "source": [
    "print(dataFrame)"
   ]
  },
  {
   "cell_type": "code",
   "execution_count": null,
   "metadata": {},
   "outputs": [],
   "source": [
    "dataFrame.drop(index='cinco')"
   ]
  },
  {
   "cell_type": "code",
   "execution_count": 13,
   "metadata": {},
   "outputs": [],
   "source": [
    "dataFrame['dívida'] = [\n",
    "    1000, 1500, 1050, 1200, 1300, 1100, 1800\n",
    "]"
   ]
  },
  {
   "cell_type": "code",
   "execution_count": null,
   "metadata": {},
   "outputs": [],
   "source": [
    "print(dataFrame)"
   ]
  },
  {
   "cell_type": "code",
   "execution_count": null,
   "metadata": {},
   "outputs": [],
   "source": [
    "print(dataFrame['dívida'])\n",
    "print(dataFrame.head())\n",
    "print(dataFrame.tail())\n",
    "print(dataFrame.loc['cinco'])\n",
    "print(dataFrame.iloc[2, 1])\n",
    "print(dataFrame.loc['quatro', 'desempenho'])"
   ]
  }
 ],
 "metadata": {
  "kernelspec": {
   "display_name": "Python 3",
   "language": "python",
   "name": "python3"
  },
  "language_info": {
   "codemirror_mode": {
    "name": "ipython",
    "version": 3
   },
   "file_extension": ".py",
   "mimetype": "text/x-python",
   "name": "python",
   "nbconvert_exporter": "python",
   "pygments_lexer": "ipython3",
   "version": "3.10.11"
  },
  "orig_nbformat": 4
 },
 "nbformat": 4,
 "nbformat_minor": 2
}
