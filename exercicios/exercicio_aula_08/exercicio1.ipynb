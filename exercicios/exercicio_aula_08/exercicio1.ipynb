{
 "cells": [
  {
   "cell_type": "code",
   "execution_count": 27,
   "metadata": {},
   "outputs": [],
   "source": [
    "import pandas as pd\n",
    "\n",
    "dados = {\n",
    "        'id': [1, 2, 3, 4, 5, 6, 7, 8, 9, 10],\n",
    "        'data_nascimento': ['01/01/2002', '01/01/2003', '01/01/2004', '01/01/2001', '01/01/2000', '01/01/2010', '01/01/2009', '01/01/2008', '01/01/2007', '01/01/2005'],\n",
    "        'cpf': ['12454783741', '12454783700', '12454783701', '12454783704', '12454783705', '12454783706', '12454783707', '12454783708', '12454783709', '12454783711'],\n",
    "        'nome': ['Rogério', 'Marcos', 'Renato', 'Daniel', 'Jonas', 'Alexandre', 'Joel', 'Curry', 'Lebron', 'Senna']\n",
    "}\n",
    "dataFrame = pd.DataFrame(dados)\n"
   ]
  },
  {
   "cell_type": "code",
   "execution_count": null,
   "metadata": {},
   "outputs": [],
   "source": [
    "print(dataFrame)"
   ]
  },
  {
   "cell_type": "code",
   "execution_count": null,
   "metadata": {},
   "outputs": [],
   "source": [
    "dataFrame = dataFrame.drop(index=6)\n",
    "\n",
    "print(dataFrame)"
   ]
  },
  {
   "cell_type": "code",
   "execution_count": 30,
   "metadata": {},
   "outputs": [],
   "source": [
    "dataFrame.loc[len(dataFrame)] = {\n",
    "    'id': 11,\n",
    "    'cpf': '95839485721',\n",
    "    'data_nascimento': '05/05/2000',\n",
    "    'nome': 'Tadeu'\n",
    "}\n"
   ]
  },
  {
   "cell_type": "code",
   "execution_count": null,
   "metadata": {},
   "outputs": [],
   "source": [
    "print(dataFrame)"
   ]
  },
  {
   "cell_type": "code",
   "execution_count": null,
   "metadata": {},
   "outputs": [],
   "source": [
    "print(dataFrame['data_nascimento'])\n",
    "print(dataFrame.head())\n",
    "print(dataFrame.tail())\n",
    "print(dataFrame.loc[2])\n",
    "print(dataFrame.iloc[2, 1])\n",
    "print(dataFrame.loc[2, 'cpf'])"
   ]
  }
 ],
 "metadata": {
  "kernelspec": {
   "display_name": "Python 3",
   "language": "python",
   "name": "python3"
  },
  "language_info": {
   "codemirror_mode": {
    "name": "ipython",
    "version": 3
   },
   "file_extension": ".py",
   "mimetype": "text/x-python",
   "name": "python",
   "nbconvert_exporter": "python",
   "pygments_lexer": "ipython3",
   "version": "3.10.11"
  },
  "orig_nbformat": 4
 },
 "nbformat": 4,
 "nbformat_minor": 2
}
